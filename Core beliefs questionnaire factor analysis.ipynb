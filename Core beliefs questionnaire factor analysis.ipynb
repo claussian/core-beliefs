{
 "cells": [
  {
   "cell_type": "markdown",
   "metadata": {},
   "source": [
    "### We have a total of 10 questions each posed as a pair of polar opposite beliefs. First, we would like to remind ourselves what the questions are."
   ]
  },
  {
   "cell_type": "markdown",
   "metadata": {},
   "source": [
    "|5 |4 |3 |2 |1 |\n",
    "|--- |--- |--- |--- |--- |\n",
    "|***Strongly believe in (A)*** |***Somewhat believe in (A)***  |***Undecided*** |***Somewhat believe in (B)***  |***Strongly believe in (B)***|\n",
    "\n",
    "1. **Religious vs. atheist:** Belief in A) mainstream theological systems such as Islam and Christianity, or conversely, B) scepticism about the existence of god(s).\n",
    "\n",
    "2. **Spiritual vs. materialist:** Belief in A) non-material phenomena such as spirits, the paranormal, a non-material soul etc, or conversely, B) the belief only in what science can reliably observe.\n",
    "\n",
    "3. **Individualist vs. communitarian:** Belief in A) self-interest - strong belief in need to meet your own needs, through maximizing pleasure, happiness or other fundamental values, or belief in B) the good of all before the good of the individual.\n",
    "\n",
    "4. **Democratic vs. authoritarian:** Belief in A) common, social institutions and the exercise of reason to sustain and improve them (through contracts, constitutions etc) , or conversely belief in B) the need for authoritative, powerful leadership.\n",
    "\n",
    "5. **Egalitarian vs. aristocratic:** Belief in A) the importance of equality in human society, and forms of participation through equality, or the converse, B) tolerance of inequalities (financial, gender, race) and the over-riding value of some voices over others.\n",
    "\n",
    "6. **Materialist vs. non-materialist of the mind:** Belief that A) the human mind will ultimately be understood in terms of scientifically observable physical/energy/informational processes, or conversely, B) that the mind is ultimately not explicable in materialistic terms.\n",
    "\n",
    "7. **Agency vs. determinism:** Belief that A) we have genuine choice about at least some of our behaviour (free will), or conversely that B) our behaviour is determined,  and that any sense of free-will is illusory.\n",
    "\n",
    "8. **Epistemological certainty vs. skepticism:** Belief that A) at least some knowledge can be sure/certain/undoubted, or conversely that B) no knowledge is sufficiently sure that it is certain, and beliefs are the most certain types of knowledge.\n",
    "\n",
    "9. **Existential meaning vs. meaninglessness:** Belief that A) human life is meaningful,  and has genuine significance, or conversely that B) it has no meaning and is an arbitrary and accidental sequence of events of no significance.\n",
    "\n",
    "10. **Moral absolutism vs. relativism:** Belief that A) there are absolute moral values, which remain true regardless of circumstances or consequences, or conversely belief that B) moral values can change and are always relative to a particular society or time."
   ]
  },
  {
   "cell_type": "markdown",
   "metadata": {},
   "source": [
    "### A simple summary of the beliefs"
   ]
  },
  {
   "cell_type": "code",
   "execution_count": null,
   "metadata": {
    "collapsed": true
   },
   "outputs": [],
   "source": []
  }
 ],
 "metadata": {
  "kernelspec": {
   "display_name": "R",
   "language": "R",
   "name": "ir"
  },
  "language_info": {
   "codemirror_mode": "r",
   "file_extension": ".r",
   "mimetype": "text/x-r-source",
   "name": "R",
   "pygments_lexer": "r",
   "version": "3.2.0"
  }
 },
 "nbformat": 4,
 "nbformat_minor": 0
}
